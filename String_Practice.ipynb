{
 "cells": [
  {
   "cell_type": "code",
   "execution_count": 2,
   "metadata": {},
   "outputs": [
    {
     "name": "stdout",
     "output_type": "stream",
     "text": [
      "Hello,World\n"
     ]
    }
   ],
   "source": [
    "print (\"Hello,World\")"
   ]
  },
  {
   "cell_type": "code",
   "execution_count": 8,
   "metadata": {},
   "outputs": [
    {
     "name": "stdout",
     "output_type": "stream",
     "text": [
      "I am Pakistani\n",
      "<class 'str'>\n",
      "<class 'int'>\n",
      "<class 'float'>\n",
      "<class 'float'>\n",
      "<class 'str'>\n"
     ]
    }
   ],
   "source": [
    "first_var=\"I am Pakistani\"\n",
    "second_var=20\n",
    "third_Var=30.4\n",
    "fifth_Var='c'\n",
    "print(first_var)\n",
    "print(type(first_var))\n",
    "print(type(second_var))\n",
    "print(type(third_Var))\n",
    "print(type(forth_Var))\n",
    "print(type(fifth_Var))"
   ]
  },
  {
   "cell_type": "code",
   "execution_count": 14,
   "metadata": {},
   "outputs": [
    {
     "name": "stdout",
     "output_type": "stream",
     "text": [
      "I am pakistani, and learning basic python\n"
     ]
    }
   ],
   "source": [
    "str_var=\"i am Pakistani, and Learning Basic Python\"\n",
    "str_after_capitalized=str_var.capitalize() # capitalize() function is used to capitalized firt letter of string \n",
    "print(str_after_capitalized)"
   ]
  },
  {
   "cell_type": "code",
   "execution_count": 24,
   "metadata": {},
   "outputs": [
    {
     "name": "stdout",
     "output_type": "stream",
     "text": [
      "Centered String:  padding with 20 spacess\n",
      "Centered String:     padding with 30 spacess    \n",
      "Centered String:          padding with 40 spacess         \n",
      "Centered String:               padding with 50 spacess              \n"
     ]
    }
   ],
   "source": [
    "str_var1 = \"padding with 20 spacess\"\n",
    "str_var2 = \"padding with 30 spacess\"\n",
    "str_var3 = \"padding with 40 spacess\"\n",
    "str_var4 = \"padding with 50 spacess\"\n",
    "\n",
    "#string.center(fillchar) used to padding string \n",
    "str_var1 = str_var1.center(20)\n",
    "print(\"Centered String: \", str_var1)\n",
    "\n",
    "str_var2 = str_var2.center(30)\n",
    "print(\"Centered String: \", str_var2)\n",
    "\n",
    "str_var3 = str_var3.center(40)\n",
    "print(\"Centered String: \", str_var3)\n",
    "\n",
    "str_var4 = str_var4.center(50)\n",
    "print(\"Centered String: \", str_var4)\n",
    "\n",
    "\n"
   ]
  },
  {
   "cell_type": "code",
   "execution_count": 28,
   "metadata": {},
   "outputs": [
    {
     "name": "stdout",
     "output_type": "stream",
     "text": [
      "The count is: 1\n",
      "The count is: 2\n"
     ]
    }
   ],
   "source": [
    "string = \"I am waqas,from karachi\"\n",
    "substring = \"waqas\"\n",
    "\n",
    "count = string.count(substring)\n",
    "\n",
    "# print count\n",
    "print(\"The count is:\", count)\n",
    "\n",
    "#program No 2\n",
    "string = \"Python is awesome, isn't it?\"\n",
    "substring = \"i\"\n",
    "\n",
    "# count after first 'i' and before the last 'i'\n",
    "count = string.count(substring, 0, 25)\n",
    "\n",
    "# print count\n",
    "print(\"The count is:\", count)\n"
   ]
  },
  {
   "cell_type": "code",
   "execution_count": 36,
   "metadata": {},
   "outputs": [
    {
     "name": "stdout",
     "output_type": "stream",
     "text": [
      "False\n",
      "True\n",
      "False\n"
     ]
    }
   ],
   "source": [
    "str_var=\"I am practicing python string functions, taught by sir qasim.\"\n",
    "#return false\n",
    "str_print=str_var.endswith(\"sir qasim\")\n",
    "print(str_print)\n",
    "\n",
    "#return true\n",
    "str_print=str_var.endswith(\"sir qasim.\")\n",
    "print(str_print)\n",
    "\n",
    "#return false\n",
    "str_print=str_var.endswith(\"sir qasim..\")\n",
    "print(str_print)"
   ]
  },
  {
   "cell_type": "code",
   "execution_count": null,
   "metadata": {},
   "outputs": [],
   "source": []
  },
  {
   "cell_type": "code",
   "execution_count": null,
   "metadata": {},
   "outputs": [],
   "source": []
  }
 ],
 "metadata": {
  "kernelspec": {
   "display_name": "Python 3",
   "language": "python",
   "name": "python3"
  },
  "language_info": {
   "codemirror_mode": {
    "name": "ipython",
    "version": 3
   },
   "file_extension": ".py",
   "mimetype": "text/x-python",
   "name": "python",
   "nbconvert_exporter": "python",
   "pygments_lexer": "ipython3",
   "version": "3.7.3"
  }
 },
 "nbformat": 4,
 "nbformat_minor": 2
}
