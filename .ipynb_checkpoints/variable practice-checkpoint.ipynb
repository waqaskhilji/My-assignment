{
 "cells": [
  {
   "cell_type": "code",
   "execution_count": 1,
   "metadata": {},
   "outputs": [
    {
     "name": "stdout",
     "output_type": "stream",
     "text": [
      "\n",
      "**********PIAIC********\n",
      "NAME: Waqas Ahmed\n",
      "S/O:  Mukhtiar Ahmed Khilji\n",
      "Caste:Khilji\n",
      "Address: Sakrand District Nawabshah\n",
      "\n"
     ]
    }
   ],
   "source": [
    "str_var=\"\"\"\n",
    "**********PIAIC********\n",
    "NAME: Waqas Ahmed\n",
    "S/O:  Mukhtiar Ahmed Khilji\n",
    "Caste:Khilji\n",
    "Address: Sakrand District Nawabshah\n",
    "\"\"\"\n",
    "print(str_var)"
   ]
  },
  {
   "cell_type": "code",
   "execution_count": 38,
   "metadata": {},
   "outputs": [
    {
     "name": "stdout",
     "output_type": "stream",
     "text": [
      "\n",
      "Name:          Waqas Ahmed          \n",
      "F_Name :       Mukhtair Ahmed khilji       \n",
      "Caste:         Khilji Pathan         \n",
      "Address:       Khilji Kitab ghar sakrand      \n",
      "RollNo:        23       \n",
      "\n",
      "\n"
     ]
    }
   ],
   "source": [
    "str_Name=\"Waqas Ahmed\"\n",
    "str_Name=str_Name.center(30)\n",
    "str_F_Name=\"Mukhtair Ahmed khilji\"\n",
    "str_F_Name=str_F_Name.center(34)\n",
    "str_caste=\"Khilji Pathan\"\n",
    "str_caste=str_caste.center(30)\n",
    "str_address=\"Khilji Kitab ghar sakrand\"\n",
    "str_address=str_address.center(37)\n",
    "rollNo= '23'\n",
    "\n",
    "rollNo=rollNo.center(17)\n",
    "string_print = \"\"\"\n",
    "Name: {}\n",
    "F_Name : {}\n",
    "Caste: {}\n",
    "Address: {}\n",
    "RollNo:{}\n",
    "\n",
    "\"\"\"\n",
    "#str_center=string_print.center(20)\n",
    "print(string_print.format(str_Name,str_F_Name,str_caste,str_address,rollNo))"
   ]
  },
  {
   "cell_type": "code",
   "execution_count": 37,
   "metadata": {},
   "outputs": [
    {
     "name": "stdout",
     "output_type": "stream",
     "text": [
      "27\n"
     ]
    }
   ],
   "source": [
    "# 3 * 3 * 3\n",
    "a = 3**3\n",
    "print(a)"
   ]
  },
  {
   "cell_type": "code",
   "execution_count": 25,
   "metadata": {},
   "outputs": [
    {
     "name": "stdout",
     "output_type": "stream",
     "text": [
      "abvabv\n"
     ]
    }
   ],
   "source": [
    "a = \"abv\"\n",
    "a *= 2\n",
    "print(a)"
   ]
  },
  {
   "cell_type": "code",
   "execution_count": 31,
   "metadata": {},
   "outputs": [
    {
     "name": "stdout",
     "output_type": "stream",
     "text": [
      "abc xyz 27\n"
     ]
    }
   ],
   "source": [
    "a = 'abc'\n",
    "b = 'xyz'\n",
    "c = 27\n",
    "\n",
    "print(a,b,c)"
   ]
  },
  {
   "cell_type": "code",
   "execution_count": 33,
   "metadata": {},
   "outputs": [
    {
     "name": "stdout",
     "output_type": "stream",
     "text": [
      "abc xyz 27\n"
     ]
    }
   ],
   "source": [
    "a = 'abc'\n",
    "b = 'xyz'\n",
    "c = 27\n",
    "\n",
    "a + b + str(c)\n",
    "print(a,b,c)"
   ]
  },
  {
   "cell_type": "code",
   "execution_count": 45,
   "metadata": {},
   "outputs": [
    {
     "name": "stdout",
     "output_type": "stream",
     "text": [
      "waqas xyz xyz xyz\n"
     ]
    }
   ],
   "source": [
    "a += \" xyz\"\n",
    "\n",
    "print(a)"
   ]
  },
  {
   "cell_type": "code",
   "execution_count": 46,
   "metadata": {},
   "outputs": [
    {
     "name": "stdout",
     "output_type": "stream",
     "text": [
      "WAQAS\n"
     ]
    }
   ],
   "source": [
    "text=\"waqas\"\n",
    "print(text.upper())\n"
   ]
  },
  {
   "cell_type": "code",
   "execution_count": 48,
   "metadata": {},
   "outputs": [
    {
     "ename": "TypeError",
     "evalue": "lower() takes no arguments (1 given)",
     "output_type": "error",
     "traceback": [
      "\u001b[1;31m---------------------------------------------------------------------------\u001b[0m",
      "\u001b[1;31mTypeError\u001b[0m                                 Traceback (most recent call last)",
      "\u001b[1;32m<ipython-input-48-6e21e5d23b17>\u001b[0m in \u001b[0;36m<module>\u001b[1;34m\u001b[0m\n\u001b[0;32m      1\u001b[0m \u001b[0mtext\u001b[0m\u001b[1;33m=\u001b[0m\u001b[1;34m\"Waqas Ahmed Khilji\"\u001b[0m\u001b[1;33m\u001b[0m\u001b[1;33m\u001b[0m\u001b[0m\n\u001b[1;32m----> 2\u001b[1;33m \u001b[0mstr_var\u001b[0m\u001b[1;33m=\u001b[0m\u001b[0mtext\u001b[0m\u001b[1;33m.\u001b[0m\u001b[0mlower\u001b[0m\u001b[1;33m(\u001b[0m\u001b[0mtext\u001b[0m\u001b[1;33m)\u001b[0m\u001b[1;33m\u001b[0m\u001b[1;33m\u001b[0m\u001b[0m\n\u001b[0m\u001b[0;32m      3\u001b[0m \u001b[0mprint\u001b[0m\u001b[1;33m(\u001b[0m\u001b[0mstr_var\u001b[0m\u001b[1;33m)\u001b[0m\u001b[1;33m\u001b[0m\u001b[1;33m\u001b[0m\u001b[0m\n",
      "\u001b[1;31mTypeError\u001b[0m: lower() takes no arguments (1 given)"
     ]
    }
   ],
   "source": [
    "text=\"Waqas Ahmed Khilji\"\n",
    "str_var= text.lower()\n",
    "print(str_var)"
   ]
  },
  {
   "cell_type": "code",
   "execution_count": null,
   "metadata": {},
   "outputs": [],
   "source": []
  },
  {
   "cell_type": "code",
   "execution_count": null,
   "metadata": {},
   "outputs": [],
   "source": []
  }
 ],
 "metadata": {
  "kernelspec": {
   "display_name": "Python 3",
   "language": "python",
   "name": "python3"
  },
  "language_info": {
   "codemirror_mode": {
    "name": "ipython",
    "version": 3
   },
   "file_extension": ".py",
   "mimetype": "text/x-python",
   "name": "python",
   "nbconvert_exporter": "python",
   "pygments_lexer": "ipython3",
   "version": "3.7.3"
  }
 },
 "nbformat": 4,
 "nbformat_minor": 2
}
